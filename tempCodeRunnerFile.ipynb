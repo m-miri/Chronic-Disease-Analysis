# Import necessary libraries
import pandas as pd
import matplotlib.pyplot as plt

# Load the dataset
df = pd.read_csv(r'C:\Users\Marizu Okemiri\Documents\Python Scripts\Portfolio\Chronic Pain Folder\U.S._Chronic_Disease_Indicators.csv')

# Final list of columns to drop, including StratificationCategory2 and Stratification2
columns_to_drop = [
    'DataValueTypeID', 'StratificationCategoryID1', 'StratificationID1', 
    'StratificationCategoryID2', 'StratificationID2', 'StratificationCategoryID3', 
    'StratificationID3', 'ResponseID', 'DataValueFootnoteSymbol', 'DataValueFootnote', 
    'Geolocation', 'LocationID', 'TopicID', 'QuestionID', 
    'StratificationCategory3', 'Stratification3', 
    'StratificationCategory2', 'Stratification2'
]

# Drop the unnecessary columns
df_cleaned = df.drop(columns=columns_to_drop)

# Filter for Diabetes data and exclude "United States" from all calculations
diabetes_data = df_cleaned[(df_cleaned['Topic'] == 'Diabetes') & (df_cleaned['LocationDesc'] != 'United States')]

# Remove unrealistic outliers (above 100% prevalence) across all data
diabetes_data_cleaned = diabetes_data[diabetes_data['DataValue'] <= 100]

# Calculate average diabetes prevalence by state/territory (excluding "United States")
diabetes_by_state = diabetes_data_cleaned.groupby('LocationDesc')['DataValue'].mean()

# Display the result (without "United States")
print(diabetes_by_state)

# Plot the data (without "United States")
plt.figure(figsize=(10,6))
diabetes_by_state.plot(kind='bar', color='skyblue')

# Add titles and labels
plt.title('Average Diabetes Prevalence by U.S. States and Territories (Cleaned)', fontsize=16)
plt.xlabel('State/Territory', fontsize=12)
plt.ylabel('Diabetes Prevalence (%)', fontsize=12)
plt.xticks(rotation=90)
plt.tight_layout()
plt.show()

# Group by Age and calculate average prevalence (excluding "United States")
diabetes_by_age = diabetes_data_cleaned[diabetes_data_cleaned['StratificationCategory1'] == 'Age'].groupby('Stratification1')['DataValue'].mean()

# Display the results
print(diabetes_by_age)

# Group by Race/Ethnicity and calculate average prevalence (excluding "United States")
diabetes_by_race = diabetes_data_cleaned[diabetes_data_cleaned['StratificationCategory1'] == 'Race/Ethnicity'].groupby('Stratification1')['DataValue'].mean()

# Display the race/ethnicity results
print(diabetes_by_race)

# Plot the Diabetes Prevalence by Race/Ethnicity with White, non-Hispanic highlighted
plt.figure(figsize=(10,6))

# Highlight White, non-Hispanic in a different color
colors = ['#ff7f0e' if x == 'White, non-Hispanic' else '#1f77b4' for x in diabetes_by_race.index]

# Plot with custom colors
plt.bar(diabetes_by_race.index, diabetes_by_race.values, color=colors)

# Add titles and labels
plt.title('Average Diabetes Prevalence by Race/Ethnicity (Cleaned)', fontsize=16)
plt.xlabel('Race/Ethnicity', fontsize=12)
plt.ylabel('Diabetes Prevalence (%)', fontsize=12)
plt.xticks(rotation=45)
plt.tight_layout()

# Show the plot
plt.show()

# Recalculate the average diabetes prevalence for White, non-Hispanic by state (excluding outliers)
white_data_cleaned = diabetes_data_cleaned[diabetes_data_cleaned['Stratification1'] == 'White, non-Hispanic']
white_by_state_cleaned = white_data_cleaned.groupby('LocationDesc')['DataValue'].mean()

# Display the recalculated results by state
print("Diabetes Prevalence for White, non-Hispanic by State (cleaned, excluding outliers):")
print(white_by_state_cleaned)

# Plot the cleaned data for White, non-Hispanic
plt.figure(figsize=(10,6))
white_by_state_cleaned.plot(kind='bar', color='lightblue')
plt.title('Diabetes Prevalence for White, non-Hispanic by State (Cleaned)', fontsize=16)
plt.xlabel('State', fontsize=12)
plt.ylabel('Diabetes Prevalence (%)', fontsize=12)
plt.xticks(rotation=90)
plt.tight_layout()
plt.show()
